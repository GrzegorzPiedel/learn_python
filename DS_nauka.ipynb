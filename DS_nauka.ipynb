{
  "nbformat": 4,
  "nbformat_minor": 0,
  "metadata": {
    "colab": {
      "provenance": [],
      "toc_visible": true,
      "authorship_tag": "ABX9TyPeYx7Z1JHDxZHJoVcYPz50",
      "include_colab_link": true
    },
    "kernelspec": {
      "name": "python3",
      "display_name": "Python 3"
    },
    "language_info": {
      "name": "python"
    }
  },
  "cells": [
    {
      "cell_type": "markdown",
      "metadata": {
        "id": "view-in-github",
        "colab_type": "text"
      },
      "source": [
        "<a href=\"https://colab.research.google.com/github/GrzegorzPiedel/learn_python/blob/master/DS_nauka.ipynb\" target=\"_parent\"><img src=\"https://colab.research.google.com/assets/colab-badge.svg\" alt=\"Open In Colab\"/></a>"
      ]
    },
    {
      "cell_type": "markdown",
      "source": [
        "#Numpy\n",
        "\n",
        "---\n",
        "\n",
        "### Spis treści\n",
        "\n",
        "1. [Podstawy](#a1)\n",
        "2.\n",
        "\n"
      ],
      "metadata": {
        "id": "4NC1xXVEA4tg"
      }
    },
    {
      "cell_type": "markdown",
      "source": [
        "# Podstawy"
      ],
      "metadata": {
        "id": "hAfOdkcECjaN"
      }
    },
    {
      "cell_type": "code",
      "source": [
        "import numpy as np"
      ],
      "metadata": {
        "id": "V9U5X8ZzAymK"
      },
      "execution_count": null,
      "outputs": []
    },
    {
      "cell_type": "code",
      "source": [],
      "metadata": {
        "id": "LWD28BC9AoFt"
      },
      "execution_count": null,
      "outputs": []
    }
  ]
}